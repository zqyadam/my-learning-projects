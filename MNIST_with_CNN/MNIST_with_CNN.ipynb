{
 "cells": [
  {
   "cell_type": "markdown",
   "metadata": {},
   "source": [
    "# MNIST_with_CNN"
   ]
  },
  {
   "cell_type": "code",
   "execution_count": 1,
   "metadata": {
    "collapsed": true
   },
   "outputs": [],
   "source": [
    "import matplotlib.pyplot as plt\n",
    "import numpy as np\n",
    "import tensorflow as tf\n",
    "%matplotlib inline"
   ]
  },
  {
   "cell_type": "markdown",
   "metadata": {},
   "source": [
    "## 加载数据"
   ]
  },
  {
   "cell_type": "code",
   "execution_count": 2,
   "metadata": {},
   "outputs": [
    {
     "name": "stdout",
     "output_type": "stream",
     "text": [
      "Extracting MNIST_data\\train-images-idx3-ubyte.gz\n",
      "Extracting MNIST_data\\train-labels-idx1-ubyte.gz\n",
      "Extracting MNIST_data\\t10k-images-idx3-ubyte.gz\n",
      "Extracting MNIST_data\\t10k-labels-idx1-ubyte.gz\n"
     ]
    }
   ],
   "source": [
    "from tensorflow.examples.tutorials.mnist import input_data\n",
    "mnist = input_data.read_data_sets('MNIST_data', one_hot= True)"
   ]
  },
  {
   "cell_type": "markdown",
   "metadata": {},
   "source": [
    "#### 关于数据集\n",
    "\n",
    "MNIST数据集中包含了三个部分：55000个训练集（mnist.train），10000个测试集（mnist.test）和5000个验证集（mnist.validation）"
   ]
  },
  {
   "cell_type": "markdown",
   "metadata": {},
   "source": [
    "#### 绘制前10个训练集图像"
   ]
  },
  {
   "cell_type": "code",
   "execution_count": 50,
   "metadata": {
    "scrolled": false
   },
   "outputs": [
    {
     "data": {
      "image/png": "[encoded data removed]",
      "text/plain": [
       "<matplotlib.figure.Figure at 0x7f8f5cc1de80>"
      ]
     },
     "metadata": {},
     "output_type": "display_data"
    },
    {
     "name": "stdout",
     "output_type": "stream",
     "text": [
      "[7 3 4 6 1 8 1 0 9 8]\n"
     ]
    }
   ],
   "source": [
    "for i in range(10):\n",
    "    image = mnist.train.images[i]\n",
    "    plt.subplot(2,5,i+1)\n",
    "    plt.imshow(image.reshape([28,28]), cmap='gray_r')\n",
    "plt.show()\n",
    "print(np.argmax(mnist.train.labels[:10], 1))"
   ]
  },
  {
   "cell_type": "code",
   "execution_count": 51,
   "metadata": {
    "scrolled": false
   },
   "outputs": [
    {
     "name": "stdout",
     "output_type": "stream",
     "text": [
      "(5000, 28, 28, 1)\n",
      "(5000, 10)\n"
     ]
    }
   ],
   "source": [
    "val_features = np.array([ mnist.validation.images[i].reshape((28,28,1))  for i in range(mnist.validation.images.shape[0])])\n",
    "print(val_features.shape)\n",
    "val_labels = mnist.validation.labels\n",
    "print(val_labels.shape)"
   ]
  },
  {
   "cell_type": "markdown",
   "metadata": {},
   "source": [
    "## 构建卷积神经网络\n",
    "\n",
    "使用3个卷积层+池化层，2个全连接层构建神经网络"
   ]
  },
  {
   "cell_type": "markdown",
   "metadata": {},
   "source": [
    "### 权重初始化"
   ]
  },
  {
   "cell_type": "code",
   "execution_count": 52,
   "metadata": {
    "collapsed": true
   },
   "outputs": [],
   "source": [
    "def init_weight(shape):\n",
    "    init = tf.truncated_normal(shape, mean=0,  stddev=0.1)\n",
    "    return tf.Variable(init)\n",
    "\n",
    "# 偏置初始化\n",
    "def init_bias(shape):\n",
    "    init = tf.zeros(shape = shape)\n",
    "    return tf.Variable(init)"
   ]
  },
  {
   "cell_type": "markdown",
   "metadata": {},
   "source": [
    "**注：**这里需要注意权重初始化时的stddev，权重在初始化的时候越靠近0越好，因为当权重全部为0的时候，意味着所有的反向传播值都是一样的，也就是说神经网络没有从误差中学到任何东西，也就无法体现这些超参数的差异化；如果初始化的值远离0了，那么可能会使神经网络在初始化的时候出面对某种结果的喜好，从而影响网络的训练，这种情况可能会使网络陷入局部解。"
   ]
  },
  {
   "cell_type": "markdown",
   "metadata": {},
   "source": [
    "### 构建各个层"
   ]
  },
  {
   "cell_type": "markdown",
   "metadata": {},
   "source": [
    "#### 卷积层和池化层"
   ]
  },
  {
   "cell_type": "code",
   "execution_count": 53,
   "metadata": {
    "collapsed": true
   },
   "outputs": [],
   "source": [
    "# 卷积层\n",
    "def conv2d(x_tensor, outputs_num, kernel_size=(3,3), strides=(1,1,1,1) ):\n",
    "    shape = x_tensor.get_shape().as_list()\n",
    "    weight = init_weight([kernel_size[0], kernel_size[1], shape[3], outputs_num])\n",
    "    bias = init_bias([outputs_num])\n",
    "    \n",
    "    conv_layer = tf.nn.conv2d(x_tensor, weight, strides, padding='SAME' )\n",
    "    conv_layer = tf.nn.bias_add(conv_layer, bias)\n",
    "    conv_layer = tf.nn.relu(conv_layer)\n",
    "    return conv_layer\n",
    "\n",
    "# 池化层\n",
    "def pooling(x_tensor, kernel_size=(2,2), strides=(1,2,2,1)):\n",
    "    pooling_layer = tf.nn.max_pool(x_tensor, ksize=[1, kernel_size[0],kernel_size[1],1], strides=strides, padding=\"SAME\")\n",
    "    return pooling_layer"
   ]
  },
  {
   "cell_type": "markdown",
   "metadata": {},
   "source": [
    "#### 扁化层\n",
    "扁化层是用来把最后一个卷积池化层的输出转换成单一向量，用来作为后面全连接层的输入层"
   ]
  },
  {
   "cell_type": "code",
   "execution_count": 54,
   "metadata": {
    "collapsed": true
   },
   "outputs": [],
   "source": [
    "def flatten(x_tensor):\n",
    "    shape = x_tensor.get_shape().as_list()\n",
    "    x_tensor = tf.reshape(x_tensor, [-1, shape[1]*shape[2]*shape[3]])\n",
    "    return x_tensor"
   ]
  },
  {
   "cell_type": "markdown",
   "metadata": {},
   "source": [
    "#### 全连接层"
   ]
  },
  {
   "cell_type": "code",
   "execution_count": 55,
   "metadata": {
    "collapsed": true
   },
   "outputs": [],
   "source": [
    "def fully_conn(x_tensor, num_outputs, activation=tf.nn.relu):\n",
    "    return tf.layers.dense(x_tensor, num_outputs, activation=activation)"
   ]
  },
  {
   "cell_type": "markdown",
   "metadata": {},
   "source": [
    "### 构建全局神经网络"
   ]
  },
  {
   "cell_type": "code",
   "execution_count": 56,
   "metadata": {
    "collapsed": true
   },
   "outputs": [],
   "source": [
    "def conv_net(x, keep_probility):\n",
    "    \n",
    "    conv_layer1 = conv2d(x, 64)\n",
    "    pooling_layer1 = pooling(conv_layer1)\n",
    "    \n",
    "    conv_layer2 = conv2d(pooling_layer1, 128)\n",
    "    pooling_layer2 = pooling(conv_layer2)\n",
    "\n",
    "    conv_layer3 = conv2d(pooling_layer2, 256)\n",
    "    pooling_layer2 = pooling(conv_layer3)\n",
    "    \n",
    "    flatten_layer = flatten(conv_layer3)\n",
    "    \n",
    "    fully_conn_layer1 = fully_conn(flatten_layer, 256)\n",
    "    fully_conn_layer1 = tf.nn.dropout(fully_conn_layer1, keep_prob = keep_probility)\n",
    "    fully_conn_layer2 = fully_conn(fully_conn_layer1, 128)\n",
    "    fully_conn_layer2 = tf.nn.dropout(fully_conn_layer2, keep_prob = keep_probility)\n",
    "    \n",
    "    output = fully_conn(fully_conn_layer2, 10, activation=None)\n",
    "    return output"
   ]
  },
  {
   "cell_type": "code",
   "execution_count": 57,
   "metadata": {
    "collapsed": true,
    "scrolled": false
   },
   "outputs": [],
   "source": [
    "x = tf.placeholder(tf.float32, shape=[None, 28, 28, 1], name=\"x\")\n",
    "y = tf.placeholder(tf.float32, shape=[None, 10], name=\"y\")\n",
    "keep_prob = tf.placeholder(tf.float32, name=\"keep_prob\")\n",
    "\n",
    "logits = conv_net(x, keep_prob)\n",
    "logits = tf.identity(logits, name='logits')\n",
    "cost = tf.reduce_mean(tf.nn.softmax_cross_entropy_with_logits(logits = logits, labels=y))\n",
    "optimizer = tf.train.AdamOptimizer().minimize(cost)\n",
    "\n",
    "\n",
    "correct_pred = tf.equal(tf.argmax(logits, 1), tf.argmax(y, 1))\n",
    "accuracy = tf.reduce_mean(tf.cast(correct_pred, tf.float32),name='accuracy')"
   ]
  },
  {
   "cell_type": "code",
   "execution_count": 58,
   "metadata": {
    "collapsed": true
   },
   "outputs": [],
   "source": [
    "def train_nn(session, optimizer, feature_batch, label_batch, keep_probility):\n",
    "    session.run(optimizer, feed_dict={x: feature_batch, y: label_batch, keep_prob: keep_probility})\n",
    "\n",
    "def print_status(session, feature_batch, label_batch, cost, accuracy):\n",
    "    loss = session.run(cost, feed_dict={ x: feature_batch, y: label_batch , keep_prob: 1 })\n",
    "    \n",
    "    acc = []\n",
    "    batch_size=4096\n",
    "    batches = mnist.validation.images.shape[0] // batch_size +1\n",
    "    for i in range(1, batches+1):\n",
    "        val_batch = mnist.validation.next_batch(batch_size)\n",
    "        val_features_batch = val_batch[0].reshape( [-1, 28,28,1])\n",
    "        val_labels_batch = val_batch[1]\n",
    "        acc.append( session.run(accuracy, feed_dict={x : val_features_batch, y: val_labels_batch, keep_prob:1}))\n",
    "    acc = np.mean(acc)\n",
    "    print('Loss: {:>10.4f} Validation Accuracy: {:.6f}'.format(loss,acc))\n",
    "    "
   ]
  },
  {
   "cell_type": "code",
   "execution_count": 59,
   "metadata": {
    "collapsed": true
   },
   "outputs": [],
   "source": [
    "epochs = 10\n",
    "batch_size=4096\n",
    "keep_probility = 0.75"
   ]
  },
  {
   "cell_type": "code",
   "execution_count": 60,
   "metadata": {
    "scrolled": false
   },
   "outputs": [
    {
     "name": "stdout",
     "output_type": "stream",
     "text": [
      "Epoch  1, MNIST Batch 1:  Loss:     2.0209 Validation Accuracy: 0.303345\n",
      "Epoch  1, MNIST Batch 2:  Loss:     1.7948 Validation Accuracy: 0.481445\n",
      "Epoch  1, MNIST Batch 3:  Loss:     1.4333 Validation Accuracy: 0.657593\n",
      "Epoch  1, MNIST Batch 4:  Loss:     1.1217 Validation Accuracy: 0.717285\n",
      "Epoch  1, MNIST Batch 5:  Loss:     0.9481 Validation Accuracy: 0.689819\n",
      "Epoch  1, MNIST Batch 6:  Loss:     0.7462 Validation Accuracy: 0.792725\n",
      "Epoch  1, MNIST Batch 7:  Loss:     0.6289 Validation Accuracy: 0.831909\n",
      "Epoch  1, MNIST Batch 8:  Loss:     0.4952 Validation Accuracy: 0.872559\n",
      "Epoch  1, MNIST Batch 9:  Loss:     0.4357 Validation Accuracy: 0.880127\n",
      "Epoch  1, MNIST Batch 10:  Loss:     0.3577 Validation Accuracy: 0.894653\n",
      "Epoch  1, MNIST Batch 11:  Loss:     0.3578 Validation Accuracy: 0.902466\n",
      "Epoch  1, MNIST Batch 12:  Loss:     0.3127 Validation Accuracy: 0.912964\n",
      "Epoch  1, MNIST Batch 13:  Loss:     0.2752 Validation Accuracy: 0.921143\n",
      "Epoch  1, MNIST Batch 14:  Loss:     0.2711 Validation Accuracy: 0.930176\n",
      "Epoch  2, MNIST Batch 1:  Loss:     0.2363 Validation Accuracy: 0.936157\n",
      "Epoch  2, MNIST Batch 2:  Loss:     0.2212 Validation Accuracy: 0.941040\n",
      "Epoch  2, MNIST Batch 3:  Loss:     0.2140 Validation Accuracy: 0.946411\n",
      "Epoch  2, MNIST Batch 4:  Loss:     0.1904 Validation Accuracy: 0.950684\n",
      "Epoch  2, MNIST Batch 5:  Loss:     0.1994 Validation Accuracy: 0.952026\n",
      "Epoch  2, MNIST Batch 6:  Loss:     0.1731 Validation Accuracy: 0.955688\n",
      "Epoch  2, MNIST Batch 7:  Loss:     0.1603 Validation Accuracy: 0.957642\n",
      "Epoch  2, MNIST Batch 8:  Loss:     0.1528 Validation Accuracy: 0.957275\n",
      "Epoch  2, MNIST Batch 9:  Loss:     0.1364 Validation Accuracy: 0.961304\n",
      "Epoch  2, MNIST Batch 10:  Loss:     0.1324 Validation Accuracy: 0.966187\n",
      "Epoch  2, MNIST Batch 11:  Loss:     0.1383 Validation Accuracy: 0.966309\n",
      "Epoch  2, MNIST Batch 12:  Loss:     0.1127 Validation Accuracy: 0.966553\n",
      "Epoch  2, MNIST Batch 13:  Loss:     0.1312 Validation Accuracy: 0.968872\n",
      "Epoch  2, MNIST Batch 14:  Loss:     0.1098 Validation Accuracy: 0.970459\n",
      "Epoch  3, MNIST Batch 1:  Loss:     0.1068 Validation Accuracy: 0.972656\n",
      "Epoch  3, MNIST Batch 2:  Loss:     0.0928 Validation Accuracy: 0.975342\n",
      "Epoch  3, MNIST Batch 3:  Loss:     0.0884 Validation Accuracy: 0.977295\n",
      "Epoch  3, MNIST Batch 4:  Loss:     0.0712 Validation Accuracy: 0.975464\n",
      "Epoch  3, MNIST Batch 5:  Loss:     0.0904 Validation Accuracy: 0.972900\n",
      "Epoch  3, MNIST Batch 6:  Loss:     0.0835 Validation Accuracy: 0.976685\n",
      "Epoch  3, MNIST Batch 7:  Loss:     0.0692 Validation Accuracy: 0.974976\n",
      "Epoch  3, MNIST Batch 8:  Loss:     0.0916 Validation Accuracy: 0.976562\n",
      "Epoch  3, MNIST Batch 9:  Loss:     0.0839 Validation Accuracy: 0.976562\n",
      "Epoch  3, MNIST Batch 10:  Loss:     0.0734 Validation Accuracy: 0.979004\n",
      "Epoch  3, MNIST Batch 11:  Loss:     0.0875 Validation Accuracy: 0.979248\n",
      "Epoch  3, MNIST Batch 12:  Loss:     0.0799 Validation Accuracy: 0.977417\n",
      "Epoch  3, MNIST Batch 13:  Loss:     0.0659 Validation Accuracy: 0.980835\n",
      "Epoch  3, MNIST Batch 14:  Loss:     0.0699 Validation Accuracy: 0.981689\n",
      "Epoch  4, MNIST Batch 1:  Loss:     0.0752 Validation Accuracy: 0.981201\n",
      "Epoch  4, MNIST Batch 2:  Loss:     0.0645 Validation Accuracy: 0.980225\n",
      "Epoch  4, MNIST Batch 3:  Loss:     0.0525 Validation Accuracy: 0.979248\n",
      "Epoch  4, MNIST Batch 4:  Loss:     0.0481 Validation Accuracy: 0.980469\n",
      "Epoch  4, MNIST Batch 5:  Loss:     0.0561 Validation Accuracy: 0.982666\n",
      "Epoch  4, MNIST Batch 6:  Loss:     0.0672 Validation Accuracy: 0.981079\n",
      "Epoch  4, MNIST Batch 7:  Loss:     0.0616 Validation Accuracy: 0.983765\n",
      "Epoch  4, MNIST Batch 8:  Loss:     0.0460 Validation Accuracy: 0.982544\n",
      "Epoch  4, MNIST Batch 9:  Loss:     0.0555 Validation Accuracy: 0.983276\n",
      "Epoch  4, MNIST Batch 10:  Loss:     0.0488 Validation Accuracy: 0.982910\n",
      "Epoch  4, MNIST Batch 11:  Loss:     0.0491 Validation Accuracy: 0.981323\n",
      "Epoch  4, MNIST Batch 12:  Loss:     0.0579 Validation Accuracy: 0.984497\n",
      "Epoch  4, MNIST Batch 13:  Loss:     0.0476 Validation Accuracy: 0.984741\n",
      "Epoch  4, MNIST Batch 14:  Loss:     0.0403 Validation Accuracy: 0.985962\n",
      "Epoch  5, MNIST Batch 1:  Loss:     0.0435 Validation Accuracy: 0.983887\n",
      "Epoch  5, MNIST Batch 2:  Loss:     0.0399 Validation Accuracy: 0.985596\n",
      "Epoch  5, MNIST Batch 3:  Loss:     0.0449 Validation Accuracy: 0.986328\n",
      "Epoch  5, MNIST Batch 4:  Loss:     0.0533 Validation Accuracy: 0.984375\n",
      "Epoch  5, MNIST Batch 5:  Loss:     0.0400 Validation Accuracy: 0.985962\n",
      "Epoch  5, MNIST Batch 6:  Loss:     0.0474 Validation Accuracy: 0.984863\n",
      "Epoch  5, MNIST Batch 7:  Loss:     0.0441 Validation Accuracy: 0.986450\n",
      "Epoch  5, MNIST Batch 8:  Loss:     0.0456 Validation Accuracy: 0.985229\n",
      "Epoch  5, MNIST Batch 9:  Loss:     0.0328 Validation Accuracy: 0.986694\n",
      "Epoch  5, MNIST Batch 10:  Loss:     0.0416 Validation Accuracy: 0.987427\n",
      "Epoch  5, MNIST Batch 11:  Loss:     0.0381 Validation Accuracy: 0.988281\n",
      "Epoch  5, MNIST Batch 12:  Loss:     0.0305 Validation Accuracy: 0.987549\n",
      "Epoch  5, MNIST Batch 13:  Loss:     0.0340 Validation Accuracy: 0.987671\n",
      "Epoch  5, MNIST Batch 14:  Loss:     0.0353 Validation Accuracy: 0.985840\n",
      "Epoch  6, MNIST Batch 1:  Loss:     0.0331 Validation Accuracy: 0.985107\n",
      "Epoch  6, MNIST Batch 2:  Loss:     0.0417 Validation Accuracy: 0.986938\n",
      "Epoch  6, MNIST Batch 3:  Loss:     0.0389 Validation Accuracy: 0.987305\n",
      "Epoch  6, MNIST Batch 4:  Loss:     0.0397 Validation Accuracy: 0.985962\n",
      "Epoch  6, MNIST Batch 5:  Loss:     0.0314 Validation Accuracy: 0.988403\n",
      "Epoch  6, MNIST Batch 6:  Loss:     0.0396 Validation Accuracy: 0.985962\n",
      "Epoch  6, MNIST Batch 7:  Loss:     0.0388 Validation Accuracy: 0.987183\n",
      "Epoch  6, MNIST Batch 8:  Loss:     0.0367 Validation Accuracy: 0.989258\n",
      "Epoch  6, MNIST Batch 9:  Loss:     0.0283 Validation Accuracy: 0.989014\n",
      "Epoch  6, MNIST Batch 10:  Loss:     0.0432 Validation Accuracy: 0.987305\n",
      "Epoch  6, MNIST Batch 11:  Loss:     0.0230 Validation Accuracy: 0.988037\n",
      "Epoch  6, MNIST Batch 12:  Loss:     0.0256 Validation Accuracy: 0.987427\n",
      "Epoch  6, MNIST Batch 13:  Loss:     0.0282 Validation Accuracy: 0.988037\n",
      "Epoch  6, MNIST Batch 14:  Loss:     0.0310 Validation Accuracy: 0.987793\n",
      "Epoch  7, MNIST Batch 1:  Loss:     0.0276 Validation Accuracy: 0.987549\n",
      "Epoch  7, MNIST Batch 2:  Loss:     0.0347 Validation Accuracy: 0.988770\n",
      "Epoch  7, MNIST Batch 3:  Loss:     0.0357 Validation Accuracy: 0.988159\n",
      "Epoch  7, MNIST Batch 4:  Loss:     0.0253 Validation Accuracy: 0.988892\n",
      "Epoch  7, MNIST Batch 5:  Loss:     0.0246 Validation Accuracy: 0.989136\n",
      "Epoch  7, MNIST Batch 6:  Loss:     0.0265 Validation Accuracy: 0.987671\n",
      "Epoch  7, MNIST Batch 7:  Loss:     0.0317 Validation Accuracy: 0.989014\n",
      "Epoch  7, MNIST Batch 8:  Loss:     0.0272 Validation Accuracy: 0.988892\n",
      "Epoch  7, MNIST Batch 9:  Loss:     0.0260 Validation Accuracy: 0.988647\n",
      "Epoch  7, MNIST Batch 10:  Loss:     0.0187 Validation Accuracy: 0.989380\n",
      "Epoch  7, MNIST Batch 11:  Loss:     0.0269 Validation Accuracy: 0.988647\n",
      "Epoch  7, MNIST Batch 12:  Loss:     0.0234 Validation Accuracy: 0.989502\n",
      "Epoch  7, MNIST Batch 13:  Loss:     0.0234 Validation Accuracy: 0.989624\n",
      "Epoch  7, MNIST Batch 14:  Loss:     0.0194 Validation Accuracy: 0.989746\n",
      "Epoch  8, MNIST Batch 1:  Loss:     0.0223 Validation Accuracy: 0.990723\n",
      "Epoch  8, MNIST Batch 2:  Loss:     0.0246 Validation Accuracy: 0.990234\n",
      "Epoch  8, MNIST Batch 3:  Loss:     0.0186 Validation Accuracy: 0.989014\n",
      "Epoch  8, MNIST Batch 4:  Loss:     0.0196 Validation Accuracy: 0.991089\n",
      "Epoch  8, MNIST Batch 5:  Loss:     0.0209 Validation Accuracy: 0.989746\n",
      "Epoch  8, MNIST Batch 6:  Loss:     0.0242 Validation Accuracy: 0.990234\n",
      "Epoch  8, MNIST Batch 7:  Loss:     0.0279 Validation Accuracy: 0.990601\n",
      "Epoch  8, MNIST Batch 8:  Loss:     0.0178 Validation Accuracy: 0.989990\n",
      "Epoch  8, MNIST Batch 9:  Loss:     0.0224 Validation Accuracy: 0.991699\n",
      "Epoch  8, MNIST Batch 10:  Loss:     0.0203 Validation Accuracy: 0.989990\n",
      "Epoch  8, MNIST Batch 11:  Loss:     0.0202 Validation Accuracy: 0.989380\n",
      "Epoch  8, MNIST Batch 12:  Loss:     0.0173 Validation Accuracy: 0.990234\n",
      "Epoch  8, MNIST Batch 13:  Loss:     0.0141 Validation Accuracy: 0.990723\n",
      "Epoch  8, MNIST Batch 14:  Loss:     0.0185 Validation Accuracy: 0.990112\n"
     ]
    },
    {
     "name": "stdout",
     "output_type": "stream",
     "text": [
      "Epoch  9, MNIST Batch 1:  Loss:     0.0170 Validation Accuracy: 0.989868\n",
      "Epoch  9, MNIST Batch 2:  Loss:     0.0161 Validation Accuracy: 0.990723\n",
      "Epoch  9, MNIST Batch 3:  Loss:     0.0215 Validation Accuracy: 0.991699\n",
      "Epoch  9, MNIST Batch 4:  Loss:     0.0255 Validation Accuracy: 0.989990\n",
      "Epoch  9, MNIST Batch 5:  Loss:     0.0164 Validation Accuracy: 0.990356\n",
      "Epoch  9, MNIST Batch 6:  Loss:     0.0210 Validation Accuracy: 0.990723\n",
      "Epoch  9, MNIST Batch 7:  Loss:     0.0203 Validation Accuracy: 0.990356\n",
      "Epoch  9, MNIST Batch 8:  Loss:     0.0161 Validation Accuracy: 0.990479\n",
      "Epoch  9, MNIST Batch 9:  Loss:     0.0169 Validation Accuracy: 0.990967\n",
      "Epoch  9, MNIST Batch 10:  Loss:     0.0152 Validation Accuracy: 0.991089\n",
      "Epoch  9, MNIST Batch 11:  Loss:     0.0136 Validation Accuracy: 0.991943\n",
      "Epoch  9, MNIST Batch 12:  Loss:     0.0163 Validation Accuracy: 0.991577\n",
      "Epoch  9, MNIST Batch 13:  Loss:     0.0144 Validation Accuracy: 0.992188\n",
      "Epoch  9, MNIST Batch 14:  Loss:     0.0133 Validation Accuracy: 0.991821\n",
      "Epoch 10, MNIST Batch 1:  Loss:     0.0183 Validation Accuracy: 0.991577\n",
      "Epoch 10, MNIST Batch 2:  Loss:     0.0177 Validation Accuracy: 0.990601\n",
      "Epoch 10, MNIST Batch 3:  Loss:     0.0221 Validation Accuracy: 0.990479\n",
      "Epoch 10, MNIST Batch 4:  Loss:     0.0143 Validation Accuracy: 0.991455\n",
      "Epoch 10, MNIST Batch 5:  Loss:     0.0145 Validation Accuracy: 0.991577\n",
      "Epoch 10, MNIST Batch 6:  Loss:     0.0163 Validation Accuracy: 0.990479\n",
      "Epoch 10, MNIST Batch 7:  Loss:     0.0190 Validation Accuracy: 0.992554\n",
      "Epoch 10, MNIST Batch 8:  Loss:     0.0108 Validation Accuracy: 0.991943\n",
      "Epoch 10, MNIST Batch 9:  Loss:     0.0174 Validation Accuracy: 0.992432\n",
      "Epoch 10, MNIST Batch 10:  Loss:     0.0167 Validation Accuracy: 0.991333\n",
      "Epoch 10, MNIST Batch 11:  Loss:     0.0145 Validation Accuracy: 0.989502\n",
      "Epoch 10, MNIST Batch 12:  Loss:     0.0150 Validation Accuracy: 0.990723\n",
      "Epoch 10, MNIST Batch 13:  Loss:     0.0155 Validation Accuracy: 0.989258\n",
      "Epoch 10, MNIST Batch 14:  Loss:     0.0152 Validation Accuracy: 0.992920\n",
      "MNIST accuracy on test set: 0.9913737177848816 ./model\n"
     ]
    }
   ],
   "source": [
    "save_model_path = './model'\n",
    "with tf.Session() as sess:\n",
    "    sess.run(tf.global_variables_initializer())\n",
    "    \n",
    "    for epoch in range(epochs):\n",
    "        batches = mnist.train.images.shape[0] // batch_size +1\n",
    "\n",
    "        for i in range(1, batches+1):\n",
    "            batch = mnist.train.next_batch(batch_size)\n",
    "            train_features_batch = batch[0].reshape( [-1, 28,28,1])\n",
    "            train_labels_batch = batch[1]\n",
    "            train_nn(sess, optimizer, feature_batch = train_features_batch, label_batch = train_labels_batch, keep_probility=keep_probility)\n",
    "            print('Epoch {:>2}, MNIST Batch {}:  '.format(epoch + 1, i), end='')\n",
    "            print_status(sess, train_features_batch,train_labels_batch, cost, accuracy )\n",
    "            \n",
    "#   在测试集上进行测试       \n",
    "    acc = []\n",
    "    test_batch_size = 4096\n",
    "    test_batches_num = (mnist.test.images.shape[0] // test_batch_size) +1\n",
    "    for i in range(1, test_batches_num+1):\n",
    "        batch = mnist.test.next_batch(test_batch_size)\n",
    "        test_features_batch = batch[0].reshape( [-1, 28,28,1])\n",
    "        test_labels_batch = batch[1]\n",
    "        \n",
    "        acc.append(sess.run(accuracy, feed_dict={x: test_features_batch, y: test_labels_batch, keep_prob:1} ))\n",
    "    acc = np.mean(acc)\n",
    "    print('MNIST accuracy on test set: {} '.format(acc), end='')\n",
    "    \n",
    "    # 保存模型\n",
    "    saver = tf.train.Saver()\n",
    "    save_path = saver.save(sess, save_model_path)\n",
    "    print(save_path)"
   ]
  },
  {
   "cell_type": "markdown",
   "metadata": {
    "collapsed": true
   },
   "source": [
    "#### 在测试集上测试模型"
   ]
  },
  {
   "cell_type": "code",
   "execution_count": 8,
   "metadata": {
    "scrolled": false
   },
   "outputs": [
    {
     "ename": "NameError",
     "evalue": "name 'keep_prob' is not defined",
     "output_type": "error",
     "traceback": [
      "\u001b[1;31m---------------------------------------------------------------------------\u001b[0m",
      "\u001b[1;31mNameError\u001b[0m                                 Traceback (most recent call last)",
      "\u001b[1;32m<ipython-input-8-d2aa7c0eb919>\u001b[0m in \u001b[0;36m<module>\u001b[1;34m()\u001b[0m\n\u001b[0;32m     19\u001b[0m         \u001b[0mtest_labels_batch\u001b[0m \u001b[1;33m=\u001b[0m \u001b[0mbatch\u001b[0m\u001b[1;33m[\u001b[0m\u001b[1;36m1\u001b[0m\u001b[1;33m]\u001b[0m\u001b[1;33m\u001b[0m\u001b[0m\n\u001b[0;32m     20\u001b[0m \u001b[1;33m\u001b[0m\u001b[0m\n\u001b[1;32m---> 21\u001b[1;33m         \u001b[0macc\u001b[0m\u001b[1;33m.\u001b[0m\u001b[0mappend\u001b[0m\u001b[1;33m(\u001b[0m\u001b[0msess\u001b[0m\u001b[1;33m.\u001b[0m\u001b[0mrun\u001b[0m\u001b[1;33m(\u001b[0m\u001b[0mloaded_acc\u001b[0m\u001b[1;33m,\u001b[0m \u001b[0mfeed_dict\u001b[0m\u001b[1;33m=\u001b[0m\u001b[1;33m{\u001b[0m\u001b[0mloaded_x\u001b[0m\u001b[1;33m:\u001b[0m \u001b[0mtest_features_batch\u001b[0m\u001b[1;33m,\u001b[0m \u001b[0mloaded_y\u001b[0m\u001b[1;33m:\u001b[0m \u001b[0mtest_labels_batch\u001b[0m\u001b[1;33m,\u001b[0m \u001b[0mkeep_prob\u001b[0m\u001b[1;33m:\u001b[0m\u001b[1;36m1\u001b[0m\u001b[1;33m}\u001b[0m \u001b[1;33m)\u001b[0m\u001b[1;33m)\u001b[0m \u001b[1;31m#, loaded_keep_prob:1\u001b[0m\u001b[1;33m\u001b[0m\u001b[0m\n\u001b[0m\u001b[0;32m     22\u001b[0m     \u001b[0macc\u001b[0m \u001b[1;33m=\u001b[0m \u001b[0mnp\u001b[0m\u001b[1;33m.\u001b[0m\u001b[0mmean\u001b[0m\u001b[1;33m(\u001b[0m\u001b[0macc\u001b[0m\u001b[1;33m)\u001b[0m\u001b[1;33m\u001b[0m\u001b[0m\n\u001b[0;32m     23\u001b[0m     \u001b[0mprint\u001b[0m\u001b[1;33m(\u001b[0m\u001b[1;34m'MNIST accuracy on test set: {} '\u001b[0m\u001b[1;33m.\u001b[0m\u001b[0mformat\u001b[0m\u001b[1;33m(\u001b[0m\u001b[0macc\u001b[0m\u001b[1;33m)\u001b[0m\u001b[1;33m,\u001b[0m \u001b[0mend\u001b[0m\u001b[1;33m=\u001b[0m\u001b[1;34m''\u001b[0m\u001b[1;33m)\u001b[0m\u001b[1;33m\u001b[0m\u001b[0m\n",
      "\u001b[1;31mNameError\u001b[0m: name 'keep_prob' is not defined"
     ]
    }
   ],
   "source": [
    "save_model_path = './model'\n",
    "loaded_graph = tf.Graph()\n",
    "with tf.Session(graph = loaded_graph) as sess:\n",
    "    loader = tf.train.import_meta_graph(save_model_path+ '.meta')\n",
    "    loader.restore(sess, save_model_path)\n",
    "    \n",
    "    loaded_x = loaded_graph.get_tensor_by_name('x:0')\n",
    "    loaded_y = loaded_graph.get_tensor_by_name('y:0')\n",
    "    loaded_keep_prob = loaded_graph.get_tensor_by_name('keep_prob:0')\n",
    "    loaded_logits = loaded_graph.get_tensor_by_name('logits:0')\n",
    "    loaded_acc = loaded_graph.get_tensor_by_name('accuracy:0')\n",
    "    \n",
    "    acc = []\n",
    "    batch_size = 256\n",
    "    batches = (mnist.test.images.shape[0] // batch_size) +1\n",
    "    for i in range(1, batches+1):\n",
    "        batch = mnist.test.next_batch(batch_size)\n",
    "        test_features_batch = batch[0].reshape( [-1, 28,28,1])\n",
    "        test_labels_batch = batch[1]\n",
    "        \n",
    "        acc.append(sess.run(loaded_acc, feed_dict={loaded_x: test_features_batch, loaded_y: test_labels_batch, loaded_keep_prob:1} )) #, \n",
    "    acc = np.mean(acc)\n",
    "    print('MNIST accuracy on test set: {} '.format(acc), end='')"
   ]
  },
  {
   "cell_type": "code",
   "execution_count": null,
   "metadata": {
    "collapsed": true
   },
   "outputs": [],
   "source": []
  }
 ],
 "metadata": {
  "kernelspec": {
   "display_name": "dlnd",
   "language": "python",
   "name": "dlnd"
  },
  "language_info": {
   "codemirror_mode": {
    "name": "ipython",
    "version": 3
   },
   "file_extension": ".py",
   "mimetype": "text/x-python",
   "name": "python",
   "nbconvert_exporter": "python",
   "pygments_lexer": "ipython3",
   "version": "3.5.4"
  }
 },
 "nbformat": 4,
 "nbformat_minor": 2
}
